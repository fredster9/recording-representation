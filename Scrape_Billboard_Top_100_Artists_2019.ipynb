{
  "nbformat": 4,
  "nbformat_minor": 0,
  "metadata": {
    "colab": {
      "name": "Scrape Billboard Top 100 Artists 2019",
      "provenance": [],
      "authorship_tag": "ABX9TyNZqMqlKIuyVdQAJZzw5KiH",
      "include_colab_link": true
    },
    "kernelspec": {
      "name": "python3",
      "display_name": "Python 3"
    }
  },
  "cells": [
    {
      "cell_type": "markdown",
      "metadata": {
        "id": "view-in-github",
        "colab_type": "text"
      },
      "source": [
        "<a href=\"https://colab.research.google.com/github/fredster9/recording-representation/blob/master/Scrape_Billboard_Top_100_Artists_2019.ipynb\" target=\"_parent\"><img src=\"https://colab.research.google.com/assets/colab-badge.svg\" alt=\"Open In Colab\"/></a>"
      ]
    },
    {
      "cell_type": "markdown",
      "metadata": {
        "id": "6-1toBQklLie",
        "colab_type": "text"
      },
      "source": [
        "#Image Scraper\n"
      ]
    },
    {
      "cell_type": "markdown",
      "metadata": {
        "id": "j18bpIfalWrz",
        "colab_type": "text"
      },
      "source": [
        "##Description\n",
        "A web scraping utility to get name, rank, and thumbnail image URL from the 2019 year-end Billboard top 100 artists list.\n",
        "\n",
        "##Rough Workflow\n",
        "\n",
        "*   Open URL\n",
        "*   Extract data\n",
        "*   Save to CSV or sheet (undecided)\n",
        "\n",
        "This wil be used to generate Wikipedia URLs in order to extract label name and append to the sheet as well.\n",
        "\n",
        "##Sections\n",
        "<a href=#data>Ingest Data</a>"
      ]
    },
    {
      "cell_type": "markdown",
      "metadata": {
        "id": "i6pBG8JcmA7p",
        "colab_type": "text"
      },
      "source": [
        "# Ingest Data"
      ]
    },
    {
      "cell_type": "code",
      "metadata": {
        "id": "B0P_Gr0TmC8q",
        "colab_type": "code",
        "colab": {}
      },
      "source": [
        "# imports"
      ],
      "execution_count": null,
      "outputs": []
    }
  ]
}