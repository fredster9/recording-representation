{
  "nbformat": 4,
  "nbformat_minor": 0,
  "metadata": {
    "colab": {
      "name": "Scrape Billboard Top 100 Artists 2019",
      "provenance": [],
      "collapsed_sections": [],
      "toc_visible": true,
      "authorship_tag": "ABX9TyMxLi+hXRgeYNDmLDyxpbnn",
      "include_colab_link": true
    },
    "kernelspec": {
      "name": "python3",
      "display_name": "Python 3"
    }
  },
  "cells": [
    {
      "cell_type": "markdown",
      "metadata": {
        "id": "view-in-github",
        "colab_type": "text"
      },
      "source": [
        "<a href=\"https://colab.research.google.com/github/fredster9/recording-representation/blob/master/Scrape_Billboard_Top_100_Artists_2019.ipynb\" target=\"_parent\"><img src=\"https://colab.research.google.com/assets/colab-badge.svg\" alt=\"Open In Colab\"/></a>"
      ]
    },
    {
      "cell_type": "markdown",
      "metadata": {
        "id": "6-1toBQklLie",
        "colab_type": "text"
      },
      "source": [
        "#Image Scraper\n"
      ]
    },
    {
      "cell_type": "markdown",
      "metadata": {
        "id": "j18bpIfalWrz",
        "colab_type": "text"
      },
      "source": [
        "##Description\n",
        "A web scraping utility to get name, rank, and thumbnail image URL from the 2019 year-end Billboard top 100 artists list. Lot of the code (esp the good looking parts) comes from [here](https://github.com/elviktor/recording-representation/blob/master/Image_Scraper.ipynb).\n",
        "\n",
        "##Rough Workflow\n",
        "\n",
        "*   Open URL\n",
        "*   Extract data\n",
        "*   Save to CSV or sheet (undecided)\n",
        "\n",
        "This wil be used to generate Wikipedia URLs in order to extract label name and append to the sheet as well.\n",
        "\n",
        "##Sections\n",
        "<a href=#data>Ingest Data</a>"
      ]
    },
    {
      "cell_type": "markdown",
      "metadata": {
        "id": "i6pBG8JcmA7p",
        "colab_type": "text"
      },
      "source": [
        "# Ingest Data"
      ]
    },
    {
      "cell_type": "code",
      "metadata": {
        "id": "B0P_Gr0TmC8q",
        "colab_type": "code",
        "colab": {}
      },
      "source": [
        "# imports\n",
        "import requests\n",
        "import bs4 \n",
        "from google.colab import files\n",
        "import csv\n"
      ],
      "execution_count": null,
      "outputs": []
    },
    {
      "cell_type": "code",
      "metadata": {
        "id": "D8lbqHQnnDqY",
        "colab_type": "code",
        "colab": {}
      },
      "source": [
        "# declare search URL\n",
        "rootURL = \"https://www.billboard.com/charts/year-end/2019/top-artists\"\n",
        "\n",
        "# root URL HTML data into bs4 object\n",
        "rootURL_data = requests.get(rootURL)\n",
        "rootURL_soup = bs4.BeautifulSoup(rootURL_data.text)\n",
        "# print(rootURL_soup)"
      ],
      "execution_count": null,
      "outputs": []
    },
    {
      "cell_type": "code",
      "metadata": {
        "id": "J01oW_IOn8Kw",
        "colab_type": "code",
        "colab": {
          "base_uri": "https://localhost:8080/",
          "height": 54
        },
        "outputId": "48eb71ab-e6a1-4382-f83b-9a90be2560a6"
      },
      "source": [
        "# one block for each artist - get whole element\n",
        "elems = rootURL_soup.findAll(\"article\", {\"class\": \"ye-chart-item\"})\n",
        "# print(elems)\n",
        "\n",
        "info = []\n",
        "info.append(['rank', 'name', 'small_img_url_works', 'big_img_url_might work'])\n",
        "\n",
        "for elem in elems:\n",
        "  rank = elem.find(\"div\", {\"class\": \"ye-chart-item__rank\"}).text\n",
        "  artist = elem.find(\"a\").text\n",
        "  # very hacky way of making biggest image from list of image sizes rather than\n",
        "  # parse that list properly\n",
        "  img_url = elem.find(\"img\")\n",
        "  img_orig = img_url['src'] # keeping because not all have 174x174 version\n",
        "  img_larger = img_src.replace('53x53', '174x174')\n",
        "\n",
        "  # print(rank, artist, img_orig, img_larger)\n",
        "  info.append([rank, artist, img_orig, img_larger])\n",
        "\n",
        "print(info)"
      ],
      "execution_count": 31,
      "outputs": [
        {
          "output_type": "stream",
          "text": [
            "[['rank', 'name', 'small_img_url_works', 'big_img_url_might work'], ['\\n1\\n', '\\nPost Malone\\n', 'https://charts-static.billboard.com/img/2015/10/post-malone-1vw-53x53.jpg', 'https://charts-static.billboard.com/img/1840/12/luke-bryan-3d2-174x174.jpg'], ['\\n2\\n', '\\nAriana Grande\\n', 'https://charts-static.billboard.com/img/2011/02/ariana-grande-ypy-artist-chart-xj0-53x53.jpg', 'https://charts-static.billboard.com/img/1840/12/luke-bryan-3d2-174x174.jpg'], ['\\n3\\n', '\\nBillie Eilish\\n', 'https://charts-static.billboard.com/img/2017/05/billie-eilish-1e3-53x53.jpg', 'https://charts-static.billboard.com/img/1840/12/luke-bryan-3d2-174x174.jpg'], ['\\n4\\n', '\\nKhalid\\n', 'https://charts-static.billboard.com/img/2016/12/khalid-dsk-53x53.jpg', 'https://charts-static.billboard.com/img/1840/12/luke-bryan-3d2-174x174.jpg'], ['\\n5\\n', '\\nDrake\\n', 'https://charts-static.billboard.com/img/2009/12/drake-hq6-artist-chart-vz1-53x53.jpg', 'https://charts-static.billboard.com/img/1840/12/luke-bryan-3d2-174x174.jpg'], ['\\n6\\n', '\\nTravis Scott\\n', 'https://charts-static.billboard.com/img/2015/09/travis-scott-jll-53x53.jpg', 'https://charts-static.billboard.com/img/1840/12/luke-bryan-3d2-174x174.jpg'], ['\\n7\\n', '\\nEd Sheeran\\n', 'https://charts-static.billboard.com/img/2012/11/ed-sheeran-buv-artist-chart-914-53x53.jpg', 'https://charts-static.billboard.com/img/1840/12/luke-bryan-3d2-174x174.jpg'], ['\\n8\\n', '\\nTaylor Swift\\n', 'https://charts-static.billboard.com/img/2006/12/taylor-swift-p7u-artist-chart-ylp-53x53.jpg', 'https://charts-static.billboard.com/img/1840/12/luke-bryan-3d2-174x174.jpg'], ['\\n9\\n', '\\nLil Nas X\\n', 'https://charts-static.billboard.com/img/2019/01/lil-nas-x-zl6-53x53.jpg', 'https://charts-static.billboard.com/img/1840/12/luke-bryan-3d2-174x174.jpg'], ['\\n10\\n', '\\nHalsey\\n', 'https://charts-static.billboard.com/img/2014/10/halsey-so0-53x53.jpg', 'https://charts-static.billboard.com/img/1840/12/luke-bryan-3d2-174x174.jpg'], ['\\n11\\n', '\\nJonas Brothers\\n', 'https://charts-static.billboard.com/img/2007/12/jonas-brothers-r3d-artist-chart-i1c-53x53.jpg', 'https://charts-static.billboard.com/img/1840/12/luke-bryan-3d2-174x174.jpg'], ['\\n12\\n', '\\nJuice WRLD\\n', 'https://charts-static.billboard.com/img/2018/05/juice-wrld-f0a-53x53.jpg', 'https://charts-static.billboard.com/img/1840/12/luke-bryan-3d2-174x174.jpg'], ['\\n13\\n', '\\nCardi B\\n', 'https://charts-static.billboard.com/img/2017/03/cardi-b-mts-artist-chart-176-53x53.jpg', 'https://charts-static.billboard.com/img/1840/12/luke-bryan-3d2-174x174.jpg'], ['\\n14\\n', '\\nDaBaby\\n', 'https://charts-static.billboard.com/img/2018/07/dababy-yo9-53x53.jpg', 'https://charts-static.billboard.com/img/1840/12/luke-bryan-3d2-174x174.jpg'], ['\\n15\\n', '\\nBTS\\n', 'https://charts-static.billboard.com/img/2015/12/bts-4i5-53x53.jpg', 'https://charts-static.billboard.com/img/1840/12/luke-bryan-3d2-174x174.jpg'], ['\\n16\\n', '\\nPanic! At The Disco\\n', 'https://charts-static.billboard.com/img/2006/12/panic-at-the-disco-yl6-53x53.jpg', 'https://charts-static.billboard.com/img/1840/12/luke-bryan-3d2-174x174.jpg'], ['\\n17\\n', '\\nLuke Combs\\n', 'https://charts-static.billboard.com/img/2017/03/luke-combs-y14-53x53.jpg', 'https://charts-static.billboard.com/img/1840/12/luke-bryan-3d2-174x174.jpg'], ['\\n18\\n', '\\nLil Baby\\n', 'https://charts-static.billboard.com/img/2017/11/lil-baby-nwx-53x53.jpg', 'https://charts-static.billboard.com/img/1840/12/luke-bryan-3d2-174x174.jpg'], ['\\n19\\n', '\\nShawn Mendes\\n', 'https://charts-static.billboard.com/img/2014/08/shawn-mendes-2fw-artist-chart-sdl-53x53.jpg', 'https://charts-static.billboard.com/img/1840/12/luke-bryan-3d2-174x174.jpg'], ['\\n20\\n', '\\nLizzo\\n', 'https://charts-static.billboard.com/img/2018/11/lizzo-w3u-53x53.jpg', 'https://charts-static.billboard.com/img/1840/12/luke-bryan-3d2-174x174.jpg'], ['\\n21\\n', '\\nMeek Mill\\n', 'https://charts-static.billboard.com/img/2012/09/meek-mill-utw-53x53.jpg', 'https://charts-static.billboard.com/img/1840/12/luke-bryan-3d2-174x174.jpg'], ['\\n22\\n', '\\nQueen\\n', 'https://charts-static.billboard.com/img/1975/12/queen-m21-53x53.jpg', 'https://charts-static.billboard.com/img/1840/12/luke-bryan-3d2-174x174.jpg'], ['\\n23\\n', '\\nDan + Shay\\n', 'https://charts-static.billboard.com/img/2014/12/dan-shay-53q-53x53.jpg', 'https://charts-static.billboard.com/img/1840/12/luke-bryan-3d2-174x174.jpg'], ['\\n24\\n', '\\nA Boogie Wit da Hoodie\\n', 'https://charts-static.billboard.com/img/2017/05/a-boogie-wit-da-hoodie-nk3-53x53.jpg', 'https://charts-static.billboard.com/img/1840/12/luke-bryan-3d2-174x174.jpg'], ['\\n25\\n', '\\nP!nk\\n', 'https://charts-static.billboard.com/img/2017/04/pnk-53x53.jpg', 'https://charts-static.billboard.com/img/1840/12/luke-bryan-3d2-174x174.jpg'], ['\\n26\\n', '\\nChris Brown\\n', 'https://charts-static.billboard.com/img/2006/12/chris-brown-cte-53x53.jpg', 'https://charts-static.billboard.com/img/1840/12/luke-bryan-3d2-174x174.jpg'], ['\\n27\\n', '\\nXXXTENTACION\\n', 'https://charts-static.billboard.com/img/2017/04/xxxtentacion-dms-53x53.jpg', 'https://charts-static.billboard.com/img/1840/12/luke-bryan-3d2-174x174.jpg'], ['\\n28\\n', '\\nJ. Cole\\n', 'https://charts-static.billboard.com/img/2011/12/j-cole-s1s-53x53.jpg', 'https://charts-static.billboard.com/img/1840/12/luke-bryan-3d2-174x174.jpg'], ['\\n29\\n', '\\nElton John\\n', 'https://charts-static.billboard.com/img/1971/12/elton-john-qls-53x53.jpg', 'https://charts-static.billboard.com/img/1840/12/luke-bryan-3d2-174x174.jpg'], ['\\n30\\n', '\\nImagine Dragons\\n', 'https://charts-static.billboard.com/img/1840/12/imagine-dragons-hy6-53x53.jpg', 'https://charts-static.billboard.com/img/1840/12/luke-bryan-3d2-174x174.jpg'], ['\\n31\\n', '\\nBad Bunny\\n', 'https://charts-static.billboard.com/img/2017/08/bad-bunny-kt8-artist-chart-wqt-53x53.jpg', 'https://charts-static.billboard.com/img/1840/12/luke-bryan-3d2-174x174.jpg'], ['\\n32\\n', '\\nKodak Black\\n', 'https://charts-static.billboard.com/img/2016/12/kodak-black-fap-53x53.jpg', 'https://charts-static.billboard.com/img/1840/12/luke-bryan-3d2-174x174.jpg'], ['\\n33\\n', '\\n21 Savage\\n', 'https://charts-static.billboard.com/img/2016/08/21-savage-jjg-53x53.jpg', 'https://charts-static.billboard.com/img/1840/12/luke-bryan-3d2-174x174.jpg'], ['\\n34\\n', '\\nYoungBoy Never Broke Again\\n', 'https://charts-static.billboard.com/img/2017/06/youngboy-never-broke-again-cu3-53x53.jpg', 'https://charts-static.billboard.com/img/1840/12/luke-bryan-3d2-174x174.jpg'], ['\\n35\\n', '\\nGunna\\n', 'https://charts-static.billboard.com/img/2018/06/gunna-16m-53x53.jpg', 'https://charts-static.billboard.com/img/1840/12/luke-bryan-3d2-174x174.jpg'], ['\\n36\\n', '\\nKane Brown\\n', 'https://charts-static.billboard.com/img/2015/10/kane-brown-ndj-53x53.jpg', 'https://charts-static.billboard.com/img/1840/12/luke-bryan-3d2-174x174.jpg'], ['\\n37\\n', '\\nLady Gaga\\n', 'https://charts-static.billboard.com/img/2017/05/lady-gaga-53x53.jpg', 'https://charts-static.billboard.com/img/1840/12/luke-bryan-3d2-174x174.jpg'], ['\\n38\\n', '\\nMarshmello\\n', 'https://charts-static.billboard.com/img/2016/10/marshmello-9ph-53x53.jpg', 'https://charts-static.billboard.com/img/1840/12/luke-bryan-3d2-174x174.jpg'], ['\\n39\\n', '\\nThomas Rhett\\n', 'https://charts-static.billboard.com/img/2013/12/thomas-rhett-r0o-53x53.jpg', 'https://charts-static.billboard.com/img/1840/12/luke-bryan-3d2-174x174.jpg'], ['\\n40\\n', '\\nMaroon 5\\n', 'https://charts-static.billboard.com/img/1840/12/maroon-5-9st-53x53.jpg', 'https://charts-static.billboard.com/img/1840/12/luke-bryan-3d2-174x174.jpg'], ['\\n41\\n', '\\nSwae Lee\\n', 'https://www.billboard.com/assets/1593103446/images/charts/bb-placeholder-new.jpg?21079ba112379073a8da', 'https://charts-static.billboard.com/img/1840/12/luke-bryan-3d2-174x174.jpg'], ['\\n42\\n', '\\nCamila Cabello\\n', 'https://charts-static.billboard.com/img/2016/01/camila-cabello-4tx-53x53.jpg', 'https://charts-static.billboard.com/img/1840/12/luke-bryan-3d2-174x174.jpg'], ['\\n43\\n', '\\nSam Smith\\n', 'https://charts-static.billboard.com/img/2014/07/sam-smith-9q2-53x53.jpg', 'https://charts-static.billboard.com/img/1840/12/luke-bryan-3d2-174x174.jpg'], ['\\n44\\n', '\\nYNW Melly\\n', 'https://www.billboard.com/assets/1593103446/images/charts/bb-placeholder-new.jpg?21079ba112379073a8da', 'https://charts-static.billboard.com/img/1840/12/luke-bryan-3d2-174x174.jpg'], ['\\n45\\n', '\\nThe Rolling Stones\\n', 'https://charts-static.billboard.com/img/2017/07/the-rolling-stones-53x53.jpg', 'https://charts-static.billboard.com/img/1840/12/luke-bryan-3d2-174x174.jpg'], ['\\n46\\n', '\\n5 Seconds Of Summer\\n', 'https://charts-static.billboard.com/img/2013/11/5-seconds-of-summer-deq-53x53.jpg', 'https://charts-static.billboard.com/img/1840/12/luke-bryan-3d2-174x174.jpg'], ['\\n47\\n', '\\nLauren Daigle\\n', 'https://charts-static.billboard.com/img/2015/05/lauren-daigle-vvo-53x53.jpg', 'https://charts-static.billboard.com/img/1840/12/luke-bryan-3d2-174x174.jpg'], ['\\n48\\n', '\\nLil Tecca\\n', 'https://charts-static.billboard.com/img/2019/06/lil-tecca-d66-53x53.jpg', 'https://charts-static.billboard.com/img/1840/12/luke-bryan-3d2-174x174.jpg'], ['\\n49\\n', '\\nMetallica\\n', 'https://charts-static.billboard.com/img/2017/05/metallica-53x53.jpg', 'https://charts-static.billboard.com/img/1840/12/luke-bryan-3d2-174x174.jpg'], ['\\n50\\n', '\\nBruno Mars\\n', 'https://charts-static.billboard.com/img/2010/12/bruno-mars-va7-53x53.jpg', 'https://charts-static.billboard.com/img/1840/12/luke-bryan-3d2-174x174.jpg'], ['\\n51\\n', '\\nYoung Thug\\n', 'https://charts-static.billboard.com/img/2014/09/young-thug-288-53x53.jpg', 'https://charts-static.billboard.com/img/1840/12/luke-bryan-3d2-174x174.jpg'], ['\\n52\\n', '\\nElla Mai\\n', 'https://charts-static.billboard.com/img/2018/03/ella-mai-4oz-53x53.jpg', 'https://charts-static.billboard.com/img/1840/12/luke-bryan-3d2-174x174.jpg'], ['\\n53\\n', '\\nBradley Cooper\\n', 'https://www.billboard.com/assets/1593103446/images/charts/bb-placeholder-new.jpg?21079ba112379073a8da', 'https://charts-static.billboard.com/img/1840/12/luke-bryan-3d2-174x174.jpg'], ['\\n54\\n', '\\nLewis Capaldi\\n', 'https://charts-static.billboard.com/img/2018/12/lewis-capaldi-s2h-53x53.jpg', 'https://charts-static.billboard.com/img/1840/12/luke-bryan-3d2-174x174.jpg'], ['\\n55\\n', '\\nEminem\\n', 'https://charts-static.billboard.com/img/2017/02/eminem-53x53.jpg', 'https://charts-static.billboard.com/img/1840/12/luke-bryan-3d2-174x174.jpg'], ['\\n56\\n', '\\nJason Aldean\\n', 'https://charts-static.billboard.com/img/2006/12/jason-aldean-sa0-53x53.jpg', 'https://charts-static.billboard.com/img/1840/12/luke-bryan-3d2-174x174.jpg'], ['\\n57\\n', '\\nNF\\n', 'https://charts-static.billboard.com/img/2015/12/nf-rht-53x53.jpg', 'https://charts-static.billboard.com/img/1840/12/luke-bryan-3d2-174x174.jpg'], ['\\n58\\n', '\\nMichael Buble\\n', 'https://www.billboard.com/assets/1593103446/images/charts/bb-placeholder-new.jpg?21079ba112379073a8da', 'https://charts-static.billboard.com/img/1840/12/luke-bryan-3d2-174x174.jpg'], ['\\n59\\n', '\\nAva Max\\n', 'https://charts-static.billboard.com/img/2018/09/ava-max-k5u-53x53.jpg', 'https://charts-static.billboard.com/img/1840/12/luke-bryan-3d2-174x174.jpg'], ['\\n60\\n', '\\nThe Beatles\\n', 'https://charts-static.billboard.com/img/1970/12/the-beatles-ism-artist-chart-6xr-53x53.jpg', 'https://charts-static.billboard.com/img/1840/12/luke-bryan-3d2-174x174.jpg'], ['\\n61\\n', '\\nNormani\\n', 'https://charts-static.billboard.com/img/2016/12/normani-kordei-y6j-53x53.jpg', 'https://charts-static.billboard.com/img/1840/12/luke-bryan-3d2-174x174.jpg'], ['\\n62\\n', '\\nFlorida Georgia Line\\n', 'https://charts-static.billboard.com/img/2012/12/florida-georgia-line-wbf-53x53.jpg', 'https://charts-static.billboard.com/img/1840/12/luke-bryan-3d2-174x174.jpg'], ['\\n63\\n', '\\ntwenty one pilots\\n', 'https://charts-static.billboard.com/img/2015/04/twenty-one-pilots-840-53x53.jpg', 'https://charts-static.billboard.com/img/1840/12/luke-bryan-3d2-174x174.jpg'], ['\\n64\\n', '\\nBilly Ray Cyrus\\n', 'https://charts-static.billboard.com/img/2008/12/billy-ray-cyrus-eni-artist-chart-duh-53x53.jpg', 'https://charts-static.billboard.com/img/1840/12/luke-bryan-3d2-174x174.jpg'], ['\\n65\\n', '\\nChris Stapleton\\n', 'https://charts-static.billboard.com/img/2015/02/chris-stapleton-ha2-53x53.jpg', 'https://charts-static.billboard.com/img/1840/12/luke-bryan-3d2-174x174.jpg'], ['\\n66\\n', '\\nSummer Walker\\n', 'https://charts-static.billboard.com/img/2018/09/summer-walker-1sj-53x53.jpg', 'https://charts-static.billboard.com/img/1840/12/luke-bryan-3d2-174x174.jpg'], ['\\n67\\n', '\\nMorgan Wallen\\n', 'https://charts-static.billboard.com/img/2018/01/morgan-wallen-ur7-53x53.jpg', 'https://charts-static.billboard.com/img/1840/12/luke-bryan-3d2-174x174.jpg'], ['\\n68\\n', '\\nBastille\\n', 'https://charts-static.billboard.com/img/2013/12/bastille-p0b-53x53.jpg', 'https://charts-static.billboard.com/img/1840/12/luke-bryan-3d2-174x174.jpg'], ['\\n69\\n', '\\nOffset\\n', 'https://charts-static.billboard.com/img/2017/09/offset-cdz-53x53.jpg', 'https://charts-static.billboard.com/img/1840/12/luke-bryan-3d2-174x174.jpg'], ['\\n70\\n', '\\nTrippie Redd\\n', 'https://charts-static.billboard.com/img/2017/09/trippie-redd-q58-53x53.jpg', 'https://charts-static.billboard.com/img/1840/12/luke-bryan-3d2-174x174.jpg'], ['\\n71\\n', '\\nTyler, The Creator\\n', 'https://charts-static.billboard.com/img/2011/12/tyler-the-creator-556-53x53.jpg', 'https://charts-static.billboard.com/img/1840/12/luke-bryan-3d2-174x174.jpg'], ['\\n72\\n', '\\nFuture\\n', 'https://charts-static.billboard.com/img/1988/03/future-f8b-53x53.jpg', 'https://charts-static.billboard.com/img/1840/12/luke-bryan-3d2-174x174.jpg'], ['\\n73\\n', '\\nLil Wayne\\n', 'https://charts-static.billboard.com/img/2017/08/lil-wayne-53x53.jpg', 'https://charts-static.billboard.com/img/1840/12/luke-bryan-3d2-174x174.jpg'], ['\\n74\\n', '\\nBlake Shelton\\n', 'https://charts-static.billboard.com/img/2017/02/blake-shelton-53x53.jpg', 'https://charts-static.billboard.com/img/1840/12/luke-bryan-3d2-174x174.jpg'], ['\\n75\\n', '\\nJustin Bieber\\n', 'https://charts-static.billboard.com/img/2009/07/justin-bieber-4oh-53x53.jpg', 'https://charts-static.billboard.com/img/1840/12/luke-bryan-3d2-174x174.jpg'], ['\\n76\\n', '\\nCity Girls\\n', 'https://charts-static.billboard.com/img/2018/12/city-girls-7fe-53x53.jpg', 'https://charts-static.billboard.com/img/1840/12/luke-bryan-3d2-174x174.jpg'], ['\\n77\\n', '\\nBlueface\\n', 'https://charts-static.billboard.com/img/2018/12/blueface-2aw-53x53.jpg', 'https://charts-static.billboard.com/img/1840/12/luke-bryan-3d2-174x174.jpg'], ['\\n78\\n', '\\nCarrie Underwood\\n', 'https://charts-static.billboard.com/img/1840/12/carrie-underwood-obd-53x53.jpg', 'https://charts-static.billboard.com/img/1840/12/luke-bryan-3d2-174x174.jpg'], ['\\n79\\n', '\\nKanye West\\n', 'https://charts-static.billboard.com/img/2017/04/kanye-west-53x53.jpg', 'https://charts-static.billboard.com/img/1840/12/luke-bryan-3d2-174x174.jpg'], ['\\n80\\n', '\\nDJ Khaled\\n', 'https://charts-static.billboard.com/img/2006/12/dj-khaled-igg-53x53.jpg', 'https://charts-static.billboard.com/img/1840/12/luke-bryan-3d2-174x174.jpg'], ['\\n81\\n', '\\nBilly Joel\\n', 'https://charts-static.billboard.com/img/1840/12/billy-joel-wt1-53x53.jpg', 'https://charts-static.billboard.com/img/1840/12/luke-bryan-3d2-174x174.jpg'], ['\\n82\\n', '\\nEagles\\n', 'https://charts-static.billboard.com/img/2017/08/eagles-53x53.jpg', 'https://charts-static.billboard.com/img/1840/12/luke-bryan-3d2-174x174.jpg'], ['\\n83\\n', '\\nBackstreet Boys\\n', 'https://charts-static.billboard.com/img/1840/12/backstreet-boys-7gl-53x53.jpg', 'https://charts-static.billboard.com/img/1840/12/luke-bryan-3d2-174x174.jpg'], ['\\n84\\n', '\\nPaul McCartney\\n', 'https://charts-static.billboard.com/img/1970/12/paul-mccartney-ntf-53x53.jpg', 'https://charts-static.billboard.com/img/1840/12/luke-bryan-3d2-174x174.jpg'], ['\\n85\\n', '\\nMegan Thee Stallion\\n', 'https://charts-static.billboard.com/img/2019/03/megan-thee-stallion-fnn-53x53.jpg', 'https://charts-static.billboard.com/img/1840/12/luke-bryan-3d2-174x174.jpg'], ['\\n86\\n', '\\nMaren Morris\\n', 'https://charts-static.billboard.com/img/2016/02/maren-morris-knd-artist-chart-413-53x53.jpg', 'https://charts-static.billboard.com/img/1840/12/luke-bryan-3d2-174x174.jpg'], ['\\n87\\n', '\\nBazzi\\n', 'https://charts-static.billboard.com/img/2018/01/bazzi-3p6-53x53.jpg', 'https://charts-static.billboard.com/img/1840/12/luke-bryan-3d2-174x174.jpg'], ['\\n88\\n', '\\nMustard\\n', 'https://charts-static.billboard.com/img/2019/02/dj-mustard-jvk-53x53.jpg', 'https://charts-static.billboard.com/img/1840/12/luke-bryan-3d2-174x174.jpg'], ['\\n89\\n', '\\n6ix9ine\\n', 'https://charts-static.billboard.com/img/2017/12/6ix9ine-dc4-53x53.jpg', 'https://charts-static.billboard.com/img/1840/12/luke-bryan-3d2-174x174.jpg'], ['\\n90\\n', '\\nKendrick Lamar\\n', 'https://charts-static.billboard.com/img/2012/11/kendrick-lamar-h1y-53x53.jpg', 'https://charts-static.billboard.com/img/1840/12/luke-bryan-3d2-174x174.jpg'], ['\\n91\\n', '\\nPolo G\\n', 'https://www.billboard.com/assets/1593103446/images/charts/bb-placeholder-new.jpg?21079ba112379073a8da', 'https://charts-static.billboard.com/img/1840/12/luke-bryan-3d2-174x174.jpg'], ['\\n92\\n', '\\nSheck Wes\\n', 'https://charts-static.billboard.com/img/2018/09/sheck-wes-fiq-53x53.jpg', 'https://charts-static.billboard.com/img/1840/12/luke-bryan-3d2-174x174.jpg'], ['\\n93\\n', '\\nMigos\\n', 'https://charts-static.billboard.com/img/2014/09/migos-apk-53x53.jpg', 'https://charts-static.billboard.com/img/1840/12/luke-bryan-3d2-174x174.jpg'], ['\\n94\\n', '\\nLil Uzi Vert\\n', 'https://charts-static.billboard.com/img/2016/07/lil-uzi-vert-mre-53x53.jpg', 'https://charts-static.billboard.com/img/1840/12/luke-bryan-3d2-174x174.jpg'], ['\\n95\\n', '\\nNipsey Hussle\\n', 'https://charts-static.billboard.com/img/2018/03/nipsey-husle-hlh-artist-chart-h8h-53x53.jpg', 'https://charts-static.billboard.com/img/1840/12/luke-bryan-3d2-174x174.jpg'], ['\\n96\\n', '\\nFleetwood Mac\\n', 'https://charts-static.billboard.com/img/2017/05/fleetwood-mac-53x53.jpg', 'https://charts-static.billboard.com/img/1840/12/luke-bryan-3d2-174x174.jpg'], ['\\n97\\n', '\\nThe Weeknd\\n', 'https://charts-static.billboard.com/img/2011/11/the-weeknd-nsd-53x53.jpg', 'https://charts-static.billboard.com/img/1840/12/luke-bryan-3d2-174x174.jpg'], ['\\n98\\n', '\\nEric Church\\n', 'https://charts-static.billboard.com/img/2017/04/eric-church-53x53.jpg', 'https://charts-static.billboard.com/img/1840/12/luke-bryan-3d2-174x174.jpg'], ['\\n99\\n', '\\nbenny blanco\\n', 'https://charts-static.billboard.com/img/2007/11/benny-blanco-new-53x53.jpg', 'https://charts-static.billboard.com/img/1840/12/luke-bryan-3d2-174x174.jpg'], ['\\n100\\n', '\\nLuke Bryan\\n', 'https://charts-static.billboard.com/img/1840/12/luke-bryan-3d2-53x53.jpg', 'https://charts-static.billboard.com/img/1840/12/luke-bryan-3d2-174x174.jpg']]\n"
          ],
          "name": "stdout"
        }
      ]
    },
    {
      "cell_type": "code",
      "metadata": {
        "id": "A3q2ZY5St0_D",
        "colab_type": "code",
        "colab": {}
      },
      "source": [
        "# write to CSV - in colab the file will be in the file menu on the left\n",
        "with open(\"billboard_artist_list.csv\", \"w\", newline=\"\") as f:\n",
        "    writer = csv.writer(f)\n",
        "    writer.writerows(info)"
      ],
      "execution_count": 32,
      "outputs": []
    }
  ]
}