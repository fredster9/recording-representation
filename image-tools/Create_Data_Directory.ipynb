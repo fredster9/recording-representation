{
 "cells": [
  {
   "cell_type": "markdown",
   "metadata": {},
   "source": [
    "# Create Data Directory\n",
    "\n",
    "### Description\n",
    "The following cells use data scrapped from the [Billboard Top 100 2019](https://www.billboard.com/charts/year-end/2019/top-artists)* to create a data directory structured by artist names.    **see Scrape_Billboard_Top_100.ipynb*\n",
    "* The artist name folders will hold all artist and executive images related to that artist. \n",
    "* A lookup table with rank and artist name is also included in the directory to help identify artist data by rank.     \n"
   ]
  },
  {
   "cell_type": "code",
   "execution_count": 4,
   "metadata": {},
   "outputs": [],
   "source": [
    "# Import libraries\n",
    "import os\n",
    "import pandas as pd"
   ]
  },
  {
   "cell_type": "markdown",
   "metadata": {},
   "source": [
    "#### Load Billboard Top 100 2019 data.\n",
    "Column labels are: rank | name | small_img | big_img"
   ]
  },
  {
   "cell_type": "code",
   "execution_count": 43,
   "metadata": {},
   "outputs": [],
   "source": [
    "artist_df = pd.read_csv(os.path.join('..','billboard_artist_list.csv'))\n",
    "\n",
    "artist_df.head()"
   ]
  },
  {
   "cell_type": "markdown",
   "metadata": {},
   "source": [
    "#### Create `name_cleaner` method to make artist names easier to handle for searches later on."
   ]
  },
  {
   "cell_type": "code",
   "execution_count": 39,
   "metadata": {},
   "outputs": [],
   "source": [
    "def name_cleaner(name_raw):\n",
    "    '''\n",
    "    This method converts raw string from artist_df to a cleaned string\n",
    "    that will be easier to use during search and data processing steps.\n",
    "    \n",
    "    Input: 'name_raw' - (str) value from artist_df\n",
    "    Output: 'name' - (str) a cleaned string\n",
    "    '''\n",
    "    name_ = re.search(\"\\\\n(.*)\\\\n\", name_raw) #'\\nPost Malone\\n'\n",
    "    name = name_[1]\n",
    "    name = name.lower().replace(\" \", \"_\")\n",
    "    \n",
    "    return name"
   ]
  },
  {
   "cell_type": "markdown",
   "metadata": {},
   "source": [
    "#### Create artist data directory."
   ]
  },
  {
   "cell_type": "code",
   "execution_count": null,
   "metadata": {},
   "outputs": [],
   "source": [
    "clean_name_list = []\n",
    "'''\n",
    "for i in range(artist_df.shape[0]):\n",
    "    # Get raw artist name\n",
    "    name_raw = artist_df.iloc[i][1]\n",
    "    name = name_cleaner(name_raw)\n",
    "    \n",
    "    cache_dir = os.path.join(\"..\", \"data\", name)  # where to store cache files\n",
    "    os.makedirs(cache_dir, exist_ok=True)  # ensure cache directory exists \n",
    "    \n",
    "    clean_name_list.append(name)\n",
    "'''\n",
    "\n",
    "clean_name_list[:5]"
   ]
  },
  {
   "cell_type": "markdown",
   "metadata": {},
   "source": [
    "#### Combine ranking with cleaned name to create a look up index for later use."
   ]
  },
  {
   "cell_type": "code",
   "execution_count": null,
   "metadata": {},
   "outputs": [],
   "source": [
    "rank = pd.Series(artist_df['rank'])\n",
    "name = pd.Series(clean_name_list)\n",
    "rank_name_df = pd.concat([rank, artist], axis=1)\n",
    "rank_name_df.columns = ['rank', 'name']\n",
    "\n",
    "rank_name_df.head()"
   ]
  },
  {
   "cell_type": "markdown",
   "metadata": {},
   "source": [
    "#### Export rank name index to data directory."
   ]
  },
  {
   "cell_type": "code",
   "execution_count": null,
   "metadata": {},
   "outputs": [],
   "source": [
    "rank_name_df.to_csv(os.path.join(\"..\", \"data\", \"rank_name.csv\"))"
   ]
  },
  {
   "cell_type": "code",
   "execution_count": 57,
   "metadata": {},
   "outputs": [],
   "source": []
  }
 ],
 "metadata": {
  "kernelspec": {
   "display_name": "Python 3",
   "language": "python",
   "name": "python3"
  },
  "language_info": {
   "codemirror_mode": {
    "name": "ipython",
    "version": 3
   },
   "file_extension": ".py",
   "mimetype": "text/x-python",
   "name": "python",
   "nbconvert_exporter": "python",
   "pygments_lexer": "ipython3",
   "version": "3.7.7"
  }
 },
 "nbformat": 4,
 "nbformat_minor": 4
}
